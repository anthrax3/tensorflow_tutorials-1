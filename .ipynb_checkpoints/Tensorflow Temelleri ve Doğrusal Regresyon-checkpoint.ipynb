{
 "cells": [
  {
   "cell_type": "markdown",
   "metadata": {},
   "source": [
    "# Tensorflow Temelleri ve Doğrusal Regresyon\n",
    "Bu Jupyter Notebook tensorflow'un temel prensiplerini ve basit bir doğrusal regresyon modelini içermektedir. \n",
    "Bu notebook doğrusal regresyonu açıklama amacı gütmez. Bu işlemlerin arkasında yatan matematiği ve mantığı öğrenmek için internetteki birçok doğrusal regresyon kaynağına bakabilirsiniz.\n",
    "\n",
    "Bu notebook'ta, doğrusal regresyon parametreleri 'Gradient Descent' yöntemiyle öğrenilecektir. En çok kullanılan doğrusal regresyon öğrenim yöntemi sıradan en küçük kareler (ordinary least squares) yöntemi olsa da, ilerideki optimizasyon bölümlerine önayak olması açısından gradient descent kullanmayı uygun gördüm. Siz isterseniz OLS yöntemini kendiniz implement edebilirsiniz.\n",
    "\n",
    "Bu notebook'taki aşamalar şu şekildedir:\n",
    "\n",
    "- Libraryleri yükle\n",
    "- Veriyi yükle\n",
    "- *Tensorflow işlemlerini ve işlemlerin oluşturduğu graph'ı tanımla*\n",
    "- *Tensorflow session'ını çalıştır.*"
   ]
  },
  {
   "cell_type": "code",
   "execution_count": 1,
   "metadata": {},
   "outputs": [
    {
     "name": "stderr",
     "output_type": "stream",
     "text": [
      "/Users/elvan/anaconda3/envs/tensorflow/lib/python3.6/importlib/_bootstrap.py:219: RuntimeWarning: compiletime version 3.5 of module 'tensorflow.python.framework.fast_tensor_util' does not match runtime version 3.6\n",
      "  return f(*args, **kwds)\n"
     ]
    },
    {
     "data": {
      "text/plain": [
       "'1.4.1'"
      ]
     },
     "execution_count": 1,
     "metadata": {},
     "output_type": "execute_result"
    }
   ],
   "source": [
    "# Libraryleri yükle\n",
    "import numpy as np\n",
    "from sklearn.datasets import load_boston\n",
    "import tensorflow as tf # RuntimeWarning çıkarsa sorun değil\n",
    "import pandas as pd\n",
    "tf.__version__"
   ]
  },
  {
   "cell_type": "code",
   "execution_count": 2,
   "metadata": {},
   "outputs": [
    {
     "name": "stdout",
     "output_type": "stream",
     "text": [
      "506 13\n"
     ]
    },
    {
     "data": {
      "text/html": [
       "<div>\n",
       "<style scoped>\n",
       "    .dataframe tbody tr th:only-of-type {\n",
       "        vertical-align: middle;\n",
       "    }\n",
       "\n",
       "    .dataframe tbody tr th {\n",
       "        vertical-align: top;\n",
       "    }\n",
       "\n",
       "    .dataframe thead th {\n",
       "        text-align: right;\n",
       "    }\n",
       "</style>\n",
       "<table border=\"1\" class=\"dataframe\">\n",
       "  <thead>\n",
       "    <tr style=\"text-align: right;\">\n",
       "      <th></th>\n",
       "      <th>0</th>\n",
       "      <th>1</th>\n",
       "      <th>2</th>\n",
       "      <th>3</th>\n",
       "      <th>4</th>\n",
       "      <th>5</th>\n",
       "      <th>6</th>\n",
       "      <th>7</th>\n",
       "      <th>8</th>\n",
       "      <th>9</th>\n",
       "      <th>10</th>\n",
       "      <th>11</th>\n",
       "      <th>12</th>\n",
       "      <th>13</th>\n",
       "    </tr>\n",
       "  </thead>\n",
       "  <tbody>\n",
       "    <tr>\n",
       "      <th>0</th>\n",
       "      <td>1.0</td>\n",
       "      <td>0.00632</td>\n",
       "      <td>18.0</td>\n",
       "      <td>2.31</td>\n",
       "      <td>0.0</td>\n",
       "      <td>0.538</td>\n",
       "      <td>6.575</td>\n",
       "      <td>65.2</td>\n",
       "      <td>4.0900</td>\n",
       "      <td>1.0</td>\n",
       "      <td>296.0</td>\n",
       "      <td>15.3</td>\n",
       "      <td>396.90</td>\n",
       "      <td>4.98</td>\n",
       "    </tr>\n",
       "    <tr>\n",
       "      <th>1</th>\n",
       "      <td>1.0</td>\n",
       "      <td>0.02731</td>\n",
       "      <td>0.0</td>\n",
       "      <td>7.07</td>\n",
       "      <td>0.0</td>\n",
       "      <td>0.469</td>\n",
       "      <td>6.421</td>\n",
       "      <td>78.9</td>\n",
       "      <td>4.9671</td>\n",
       "      <td>2.0</td>\n",
       "      <td>242.0</td>\n",
       "      <td>17.8</td>\n",
       "      <td>396.90</td>\n",
       "      <td>9.14</td>\n",
       "    </tr>\n",
       "    <tr>\n",
       "      <th>2</th>\n",
       "      <td>1.0</td>\n",
       "      <td>0.02729</td>\n",
       "      <td>0.0</td>\n",
       "      <td>7.07</td>\n",
       "      <td>0.0</td>\n",
       "      <td>0.469</td>\n",
       "      <td>7.185</td>\n",
       "      <td>61.1</td>\n",
       "      <td>4.9671</td>\n",
       "      <td>2.0</td>\n",
       "      <td>242.0</td>\n",
       "      <td>17.8</td>\n",
       "      <td>392.83</td>\n",
       "      <td>4.03</td>\n",
       "    </tr>\n",
       "    <tr>\n",
       "      <th>3</th>\n",
       "      <td>1.0</td>\n",
       "      <td>0.03237</td>\n",
       "      <td>0.0</td>\n",
       "      <td>2.18</td>\n",
       "      <td>0.0</td>\n",
       "      <td>0.458</td>\n",
       "      <td>6.998</td>\n",
       "      <td>45.8</td>\n",
       "      <td>6.0622</td>\n",
       "      <td>3.0</td>\n",
       "      <td>222.0</td>\n",
       "      <td>18.7</td>\n",
       "      <td>394.63</td>\n",
       "      <td>2.94</td>\n",
       "    </tr>\n",
       "    <tr>\n",
       "      <th>4</th>\n",
       "      <td>1.0</td>\n",
       "      <td>0.06905</td>\n",
       "      <td>0.0</td>\n",
       "      <td>2.18</td>\n",
       "      <td>0.0</td>\n",
       "      <td>0.458</td>\n",
       "      <td>7.147</td>\n",
       "      <td>54.2</td>\n",
       "      <td>6.0622</td>\n",
       "      <td>3.0</td>\n",
       "      <td>222.0</td>\n",
       "      <td>18.7</td>\n",
       "      <td>396.90</td>\n",
       "      <td>5.33</td>\n",
       "    </tr>\n",
       "  </tbody>\n",
       "</table>\n",
       "</div>"
      ],
      "text/plain": [
       "    0        1     2     3    4      5      6     7       8    9      10  \\\n",
       "0  1.0  0.00632  18.0  2.31  0.0  0.538  6.575  65.2  4.0900  1.0  296.0   \n",
       "1  1.0  0.02731   0.0  7.07  0.0  0.469  6.421  78.9  4.9671  2.0  242.0   \n",
       "2  1.0  0.02729   0.0  7.07  0.0  0.469  7.185  61.1  4.9671  2.0  242.0   \n",
       "3  1.0  0.03237   0.0  2.18  0.0  0.458  6.998  45.8  6.0622  3.0  222.0   \n",
       "4  1.0  0.06905   0.0  2.18  0.0  0.458  7.147  54.2  6.0622  3.0  222.0   \n",
       "\n",
       "     11      12    13  \n",
       "0  15.3  396.90  4.98  \n",
       "1  17.8  396.90  9.14  \n",
       "2  17.8  392.83  4.03  \n",
       "3  18.7  394.63  2.94  \n",
       "4  18.7  396.90  5.33  "
      ]
     },
     "execution_count": 2,
     "metadata": {},
     "output_type": "execute_result"
    }
   ],
   "source": [
    "# Veriyi oku\n",
    "boston = load_boston() # boston.data ve boston.target olmak üzere iki array içerir\n",
    "m, n = boston.data.shape # verinin satır sütun sayıları\n",
    "print(m, n)\n",
    "boston_plus_bias = np.c_[np.ones((m, 1)), boston.data]\n",
    "pd.DataFrame(boston_plus_bias).head()"
   ]
  },
  {
   "cell_type": "markdown",
   "metadata": {
    "collapsed": true
   },
   "source": [
    "Görülüğü üzere, veriyi ilk yüklediğimizde 506 satır, 13 sütunluk bir verisetine sahiptik. \n",
    "\n",
    "Ancak doğrusal regresyon ve yapay sinir ağları modelleri için bir 'bias' gerekmektedir. 'Bias' dediğimiz kısım, sabit bir değer olup, doğrusal regresyon için 'intercept' değerine denk gelmektedir. Bu sabit değeri öğrenebilmek için verimize 1 sayısından oluşan bir sütun ekliyoruz. Bu sütuna denk gelecek ağırlık bizim 'bias' değerimiz olacaktır.\n",
    "\n",
    "Bu noktadan sonra, verimize eriştiğimize göre Tensorflow değişkenlerini tanımaya ve graph'ımızı tanımlamaya geçebiliriz"
   ]
  },
  {
   "cell_type": "markdown",
   "metadata": {},
   "source": [
    "## Tensorflow'un Çalışma Mantığı\n",
    "\n",
    "Tensorflow yapısı gereği önce değişkenleri ve değişkenlere yapılacak işlemleri tanımlamanızı gerektirir. Sonrasında ise bu işlemleri koşturarak bir sonuç üretir. Bu aşamaların sebebi, tensorflow'un öncelikle bir koşturma grafiği oluşturmasıyla alakalıdır. Bu grafik sayesinde Tensorflow, grafiğin parçalarını paralel çalıştırarak hız ve performans kazanır. \n",
    "\n",
    "Bu yöntemin dezavantajı ise interaktivite kaybıdır. Normal Python kodları gibi interaktif çalışmak problemli olabilir. Bunun için üretilmiş daha üst seviye kütüphaneler mevcuttur. En çok bilineni [Keras](https://keras.io/) olan bu kütüphanelerin bir benzerini de Google [Tensorflow Eager](https://github.com/tensorflow/tensorflow/tree/master/tensorflow/contrib/eager) adıyla çıkarmıştır ancak benim henüz bu kütüphaneyi deneme fırsatım olmadı. Daha basit bir çalışma süreci isterseniz Keras kullanabilirsiniz ancak bu notebooklar ana Tensorflow'a odaklanmaktadır."
   ]
  },
  {
   "cell_type": "code",
   "execution_count": 3,
   "metadata": {
    "collapsed": true
   },
   "outputs": [],
   "source": [
    "# Değişkenleri tanımlar\n",
    "X = tf.constant(boston_plus_bias, dtype = tf.float32, name = 'X')\n",
    "y = tf.constant(boston.target.reshape(-1,1), dtype=tf.float32, name = \"y\")\n",
    "theta = tf.Variable(tf.random_uniform([n + 1, 1], -1, 1), name = \"theta\")"
   ]
  },
  {
   "cell_type": "markdown",
   "metadata": {},
   "source": [
    "Tanımladığımız değişkenlerden X, y sabit; theta ise değişkendir (Variable). Bunun sebebi, verimiz olan X ve y'nin değişmez olması; öğrenmek istediğimiz değişken olan theta'nın ise kodun çalışma süresi boyunca değişecek olmasıdır.\n",
    "\n",
    "Şimdi öğrenme parametrelerini tanımlayalım."
   ]
  },
  {
   "cell_type": "code",
   "execution_count": 16,
   "metadata": {
    "collapsed": true
   },
   "outputs": [],
   "source": [
    "n_epochs = 2000 #2000 iterasyon. \n",
    "# Kendi bilgisayarınıza göre düşürüp arttırabilirsiniz.\n",
    "\n",
    "learning_rate = 0.000001 # Gradient descent adım boyutu"
   ]
  },
  {
   "cell_type": "markdown",
   "metadata": {},
   "source": [
    "Bu parametreler çoğunlukla deneme yanılma yöntemi ve öğrenme performansına bakılarak belirlenir. Eğer Gradient Descent yöntemini bilmiyorsanız öğrenmek için Fast.ai [wiki](http://wiki.fast.ai/index.php/Gradient_Descent)'sine bakmanızı tavsiye ederim.\n",
    "\n",
    "Bu noktadan sonra yapmamız gereken şey, Tensorflow'un yapacağı işlemleri tanımlamak."
   ]
  },
  {
   "cell_type": "code",
   "execution_count": 19,
   "metadata": {
    "collapsed": true
   },
   "outputs": [],
   "source": [
    "y_pred = tf.matmul(X, theta, name = \"predictions\")\n",
    "error = y_pred - y\n",
    "mse = tf.reduce_mean(tf.square(error), name = \"mse\")\n",
    "optimizer = tf.train.GradientDescentOptimizer(learning_rate=learning_rate)\n",
    "training_op = optimizer.minimize(mse)"
   ]
  },
  {
   "cell_type": "markdown",
   "metadata": {},
   "source": [
    "Bu noktada, Tensorflow'un yapacağı işlemleri tanımladık ancak henüz hiçbir işlem yapılmadı. \n",
    "\n",
    "İlk satırda, tensorflow'a tahminleri nasıl hesaplayacağını söylüyoruz.\n",
    "\n",
    "İkinci satırda, hatayı nasıl hesaplayacağını söylüyoruz.\n",
    "\n",
    "Üçüncü satırda tüm kare hataların ortalamasını nasıl alacağını söylüyoruz.\n",
    "\n",
    "Dördüncü satırda, Gradient Descent optimizasyonunu kullanmasını ve bu optimizasyonun adım boyutunu belirtiyoruz.\n",
    "\n",
    "Beşinci satırda optimizasyonun, ortalama kare hatayı minimize ederek yapılacağını söylüyoruz."
   ]
  },
  {
   "cell_type": "markdown",
   "metadata": {},
   "source": [
    "İşlemleri gerçekleştirmek için öncelikle bir Tensorflow session'ı oluşturmamız gerekiyor. Bu session graph'ı oluşturarak işlemleri koşturacak ve bu sayede sonuçları elde edebileceğiz. \n",
    "\n",
    "Henüz ne değişkenler ne de işlemler başlatılmadı. İlk yapacağımız şey değişkenleri başlatıp, sonrasında işlemleri koşturmak."
   ]
  },
  {
   "cell_type": "code",
   "execution_count": 20,
   "metadata": {},
   "outputs": [
    {
     "name": "stdout",
     "output_type": "stream",
     "text": [
      "Epoch 0 MSE =  236219.0\n",
      "Epoch 100 MSE =  356.214\n",
      "Epoch 200 MSE =  320.424\n",
      "Epoch 300 MSE =  289.236\n",
      "Epoch 400 MSE =  262.001\n",
      "Epoch 500 MSE =  238.177\n",
      "Epoch 600 MSE =  217.309\n",
      "Epoch 700 MSE =  199.008\n",
      "Epoch 800 MSE =  182.942\n",
      "Epoch 900 MSE =  168.825\n",
      "Epoch 1000 MSE =  156.412\n",
      "Epoch 1100 MSE =  145.489\n",
      "Epoch 1200 MSE =  135.87\n",
      "Epoch 1300 MSE =  127.396\n",
      "Epoch 1400 MSE =  119.925\n",
      "Epoch 1500 MSE =  113.336\n",
      "Epoch 1600 MSE =  107.52\n",
      "Epoch 1700 MSE =  102.384\n",
      "Epoch 1800 MSE =  97.8459\n",
      "Epoch 1900 MSE =  93.8335\n"
     ]
    }
   ],
   "source": [
    "init = tf.global_variables_initializer()\n",
    "with tf.Session() as sess:\n",
    "    sess.run(init) # Değişkenleri başlat\n",
    "    \n",
    "    # Optimizasyonu epoch sayısı kadar çalıştır\n",
    "    for epoch in range(n_epochs):\n",
    "        if epoch % 100 == 0: # Her 100 epoch'te bir performans çıktısı\n",
    "            print(\"Epoch\", epoch, \"MSE = \", mse.eval())\n",
    "        sess.run(training_op)\n",
    "    \n",
    "    best_theta = theta.eval()"
   ]
  },
  {
   "cell_type": "markdown",
   "metadata": {},
   "source": [
    "Gradient descent söz konusu olduğu zaman dikkat edilmesi gereken en büyük nokta öğrenme adımının boyutudur. Eğer öğrenme adımınız çok büyükse 'Exploding weights' (büyüyen ağırlıklar) problemiyle karşılaşırsınız. Bu durumda, öğrenme sürecinde hatanız azalmak yerine sonsuza gidecektir. İsterseniz bu notebook'te learning_rate'i değiştirerek deneyebilirsiniz."
   ]
  }
 ],
 "metadata": {
  "kernelspec": {
   "display_name": "TF",
   "language": "python",
   "name": "tensorflow"
  },
  "language_info": {
   "codemirror_mode": {
    "name": "ipython",
    "version": 3
   },
   "file_extension": ".py",
   "mimetype": "text/x-python",
   "name": "python",
   "nbconvert_exporter": "python",
   "pygments_lexer": "ipython3",
   "version": "3.6.4"
  }
 },
 "nbformat": 4,
 "nbformat_minor": 2
}
